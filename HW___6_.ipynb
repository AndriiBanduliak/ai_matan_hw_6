{
  "nbformat": 4,
  "nbformat_minor": 0,
  "metadata": {
    "colab": {
      "provenance": []
    },
    "kernelspec": {
      "name": "python3",
      "display_name": "Python 3"
    },
    "language_info": {
      "name": "python"
    }
  },
  "cells": [
    {
      "cell_type": "markdown",
      "source": [
        "Известно, что генеральная совокупность распределена нормально со средним квадратическим отклонением, равным 16.\n",
        "Найти доверительный интервал для оценки математического ожидания a с надежностью 0.95, если выборочная средняя M = 80, а объем выборки n = 256."
      ],
      "metadata": {
        "id": "NFFWjasJDcHl"
      }
    },
    {
      "cell_type": "markdown",
      "source": [
        "Доверительный интервал может быть вычислен с помощью формулы:\n",
        "\n",
        "M ± t*(s / sqrt(n))\n",
        "\n",
        "где t - квантиль стьдента с уровнем доверия 0.95, s - среднее квадратическое отклонение генеральной совокупности (16), а sqrt(n) - корень из объема выборки (256).\n",
        "\n",
        "t может быть вычислен с помощью таблицы квантилей стьдента или функции scipy.stats.t.ppf(). Например:\n",
        "\n",
        "from scipy.stats import t\n",
        "\n",
        "t_critical = t.ppf(0.95, 255)\n",
        "\n",
        "Доверительный интервал будет:\n",
        "\n",
        "(80 - t_critical * (16 / sqrt(256)), 80 + t_critical * (16 / sqrt(256)))"
      ],
      "metadata": {
        "id": "k5QEblEaDmts"
      }
    },
    {
      "cell_type": "code",
      "source": [
        "import numpy as np\n",
        "from scipy import stats\n",
        "\n",
        "M = 80\n",
        "sigma = 16\n",
        "n = 256\n",
        "alpha = 0.05\n",
        "\n",
        "conf_interval = stats.norm.interval(alpha=1-alpha, loc=M, scale=sigma/np.sqrt(n))\n",
        "print(f\"Доверительный интервал: [{conf_interval[0]:.2f}, {conf_interval[1]:.2f}]\")\n"
      ],
      "metadata": {
        "colab": {
          "base_uri": "https://localhost:8080/"
        },
        "id": "2HbEw-iCDoRx",
        "outputId": "50388293-7252-452d-e1c1-ea05ede9bb1e"
      },
      "execution_count": 1,
      "outputs": [
        {
          "output_type": "stream",
          "name": "stdout",
          "text": [
            "Доверительный интервал: [78.04, 81.96]\n"
          ]
        }
      ]
    },
    {
      "cell_type": "markdown",
      "source": [
        "В результате 10 независимых измерений некоторой величины X, выполненных с одинаковой точностью, получены опытные данные:\n",
        "6.9, 6.1, 6.2, 6.8, 7.5, 6.3, 6.4, 6.9, 6.7, 6.1\n",
        "\n",
        "Предполагая, что результаты измерений подчинены нормальному закону распределения вероятностей, оценить истинное значение величины X при помощи доверительного интервала, покрывающего это значение с доверительной вероятностью 0,95."
      ],
      "metadata": {
        "id": "eqCab-pXDzVZ"
      }
    },
    {
      "cell_type": "code",
      "source": [
        "import numpy as np\n",
        "from scipy import stats\n",
        "\n",
        "data = np.array([6.9, 6.1, 6.2, 6.8, 7.5, 6.3, 6.4, 6.9, 6.7, 6.1])\n",
        "mean = np.mean(data)\n",
        "std = np.std(data, ddof=1)\n",
        "n = len(data)\n",
        "alpha = 0.05\n",
        "\n",
        "interval = stats.norm.interval(alpha=1-alpha, loc=mean, scale=std/np.sqrt(n))\n",
        "\n",
        "print(f'Доверительный интервал с доверительной вероятностью 0.95: ({interval[0]:.4f}, {interval[1]:.4f})')\n"
      ],
      "metadata": {
        "colab": {
          "base_uri": "https://localhost:8080/"
        },
        "id": "AijRPogOEBmF",
        "outputId": "6f1ebdd2-daf4-444e-9c19-b1ee2a267ccf"
      },
      "execution_count": 2,
      "outputs": [
        {
          "output_type": "stream",
          "name": "stdout",
          "text": [
            "Доверительный интервал с доверительной вероятностью 0.95: (6.3106, 6.8694)\n"
          ]
        }
      ]
    },
    {
      "cell_type": "markdown",
      "source": [
        "Рост дочерей 175, 167, 154, 174, 178, 148, 160, 167, 169, 170\n",
        "\n",
        "Рост матерей  178, 165, 165, 173, 168, 155, 160, 164, 178, 175\n",
        "\n",
        "Используя эти данные построить 95% доверительный интервал для разности среднего роста родителей и детей."
      ],
      "metadata": {
        "id": "nWs5XnxEELpj"
      }
    },
    {
      "cell_type": "code",
      "source": [
        "import numpy as np\n",
        "import scipy.stats as st\n",
        "\n",
        "daughters_height = np.array([175, 167, 154, 174, 178, 148, 160, 167, 169, 170])\n",
        "mothers_height = np.array([178, 165, 165, 173, 168, 155, 160, 164, 178, 175])\n",
        "\n",
        "diff_mean = mothers_height.mean() - daughters_height.mean()\n",
        "diff_std = np.sqrt((mothers_height.var() + daughters_height.var()) / 2)\n",
        "\n",
        "t_critical = st.t.ppf(0.975, df=len(mothers_height) - 1)\n",
        "\n",
        "margin_of_error = t_critical * diff_std / np.sqrt(len(mothers_height))\n",
        "\n",
        "confidence_interval = (diff_mean - margin_of_error, diff_mean + margin_of_error)\n",
        "\n",
        "print(\"95% доверительный интервал для разности среднего роста родителей и детей:\", confidence_interval)\n"
      ],
      "metadata": {
        "colab": {
          "base_uri": "https://localhost:8080/"
        },
        "id": "sW_3bdoqEMO7",
        "outputId": "d0be1329-9eca-4e90-977b-d795b29c43ca"
      },
      "execution_count": 4,
      "outputs": [
        {
          "output_type": "stream",
          "name": "stdout",
          "text": [
            "95% доверительный интервал для разности среднего роста родителей и детей: (-4.0000684389561805, 7.800068438956192)\n"
          ]
        }
      ]
    }
  ]
}